{
 "cells": [
  {
   "cell_type": "code",
   "execution_count": 1,
   "id": "polyphonic-tobacco",
   "metadata": {},
   "outputs": [
    {
     "name": "stdout",
     "output_type": "stream",
     "text": [
      "Using matplotlib backend: Qt5Agg\n",
      "Populating the interactive namespace from numpy and matplotlib\n"
     ]
    }
   ],
   "source": [
    "import matplotlib.pyplot as plt\n",
    "from src.utils.plotting import init_plot_style\n",
    "%pylab"
   ]
  },
  {
   "cell_type": "code",
   "execution_count": 2,
   "id": "graphic-repair",
   "metadata": {},
   "outputs": [],
   "source": [
    "def coef(c,A):\n",
    "    \"\"\"Compute the coefficents for the given function, evaluate at x =c, with input parameter A\"\"\"\n",
    "    \n",
    "    fc0 = 1/(1+np.exp(-c))\n",
    "    fc1 = np.exp(-c)/(1+np.exp(-c))**2\n",
    "    fc2 = -np.exp(-c)/(1+np.exp(-c))**2 + 2*np.exp(-2*c)/(1+np.exp(-c))**3\n",
    "    fc3 = np.exp(-c)/(1+np.exp(-c))**2 - 6*np.exp(-2*c)/(1+np.exp(-c))**3 + 6*np.exp(-3*c)/(1+np.exp(-c))**4\n",
    "        \n",
    "    a0 = fc0 - fc1*c + 0.5*fc2*(c**2)-(1/6)*fc3*(c**3) + 0.25*(fc2-c*fc3)*(A**2)\n",
    "    a1 = (fc1 -fc2*c+0.5*fc3*(c**2))*A + 0.75*(1/6)*fc3*(A**3)\n",
    "    a2 = 0.25*(fc2-fc3*c)*(A**2)\n",
    "    a3 = 0.25*(1/6)*fc3*(A**3)\n",
    "        \n",
    "    return [a0, a1, a2, a3]\n",
    "\n",
    "def system(x, A):\n",
    "    \"\"\"Original system f(x[n])\"\"\"\n",
    "    theta = np.pi*2/5\n",
    "    y = 1/(1+np.exp(-A*cos(theta*x)))\n",
    "    return y\n",
    "\n",
    "def approx_sys(x, a):\n",
    "    \"\"\"Evaluate Taylor approximation\"\"\"\n",
    "    theta = np.pi*2/5\n",
    "    y_hat = a[0] + a[1]*cos(theta*x)+a[2]*cos(2*theta*x) + a[3]*cos(3*theta*x)\n",
    "    return y_hat\n",
    "\n"
   ]
  },
  {
   "cell_type": "code",
   "execution_count": 3,
   "id": "beginning-model",
   "metadata": {},
   "outputs": [],
   "source": [
    "#alpha = np.zeros([1,4])\n",
    "alpha_0_1 = coef(0,1)\n",
    "alpha_ln_1 = coef(np.log(2),1)\n",
    "\n",
    "alpha_0_3 = coef(0,1.5)\n",
    "alpha_ln_3 = coef(np.log(2),1.5)\n",
    "\n",
    "#Evaluate the system\n",
    "x = np.arange(-3,3,0.05)\n",
    "y_1 = system(x, 1)\n",
    "y_3 = system(x, 3)\n",
    "\n",
    "y_0_1 = approx_sys(x,alpha_0_1)\n",
    "y_ln_1 = approx_sys(x,alpha_ln_1)\n",
    "y_0_3 = approx_sys(x,alpha_0_3)\n",
    "y_ln_3 = approx_sys(x,alpha_ln_3)\n",
    "\n",
    "\n",
    "plt.figure(figsize=(8,5))\n",
    "plt.plot(x, y_1, label='Original system')\n",
    "plt.plot(x, y_0_1, label='Taylor approxiamtaion at c = 0')\n",
    "plt.plot(x, y_ln_1, label='Taylor approxiamtaion at c = ln(2)')\n",
    "plt.legend()\n",
    "plt.xlabel('x')\n",
    "plt.ylabel('f(x)')\n",
    "plt.title('A = 1')\n",
    "plt.grid()\n",
    "plt.tight_layout()\n",
    "plt.show()\n",
    "\n",
    "plt.figure(figsize=(8,5))\n",
    "plt.plot(x, y_3, label='Original system')\n",
    "plt.plot(x, y_0_3, label='Taylor approxiamtaion at c = 0')\n",
    "plt.plot(x, y_ln_3, label='Taylor approxiamtaion at c = ln(2)')\n",
    "plt.legend()\n",
    "plt.xlabel('x')\n",
    "plt.ylabel('f(x)')\n",
    "plt.title('A = 3')\n",
    "plt.grid()\n",
    "plt.tight_layout()\n",
    "plt.show()\n"
   ]
  }
 ],
 "metadata": {
  "kernelspec": {
   "display_name": "Python 3",
   "language": "python",
   "name": "python3"
  },
  "language_info": {
   "codemirror_mode": {
    "name": "ipython",
    "version": 3
   },
   "file_extension": ".py",
   "mimetype": "text/x-python",
   "name": "python",
   "nbconvert_exporter": "python",
   "pygments_lexer": "ipython3",
   "version": "3.7.9"
  }
 },
 "nbformat": 4,
 "nbformat_minor": 5
}
