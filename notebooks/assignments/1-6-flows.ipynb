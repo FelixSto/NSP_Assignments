{
 "cells": [
  {
   "cell_type": "markdown",
   "metadata": {
    "collapsed": true,
    "pycharm": {
     "name": "#%% md\n"
    }
   },
   "source": [
    "# Assignment 1\n",
    "## Problem 6 - Normalizing Flows"
   ]
  },
  {
   "cell_type": "code",
   "execution_count": 3,
   "metadata": {
    "pycharm": {
     "name": "#%%\n"
    }
   },
   "outputs": [
    {
     "name": "stderr",
     "output_type": "stream",
     "text": [
      "UsageError: Line magic function `%autoreload` not found.\n"
     ]
    }
   ],
   "source": [
    "%reload_ext autoreload\n",
    "%autoreload 2\n",
    "import matplotlib.pyplot as plt\n",
    "import numpy as np\n",
    "import pyro.distributions as dist\n",
    "import torch\n",
    "from matplotlib import cm\n",
    "from src.utils.io import load_image, img_to_bw\n",
    "\n",
    "import pyro\n",
    "import pyro.distributions as dist\n",
    "import pyro.distributions.transforms as T\n",
    "\n",
    "from src.utils.plotting import init_plot_style, show_grayscale_img\n",
    "#%pylab\n",
    "\n",
    "init_plot_style()\n",
    "data_dir='../../data/img/'"
   ]
  },
  {
   "cell_type": "markdown",
   "metadata": {
    "pycharm": {
     "name": "#%% md\n"
    }
   },
   "source": [
    "If necessary, we first have to convert our grayscale icons to a binary image."
   ]
  },
  {
   "cell_type": "code",
   "execution_count": 4,
   "metadata": {
    "pycharm": {
     "name": "#%%\n"
    },
    "scrolled": true
   },
   "outputs": [
    {
     "ename": "NameError",
     "evalue": "name 'img_to_bw' is not defined",
     "output_type": "error",
     "traceback": [
      "\u001b[1;31m---------------------------------------------------------------------------\u001b[0m",
      "\u001b[1;31mNameError\u001b[0m                                 Traceback (most recent call last)",
      "\u001b[1;32m<ipython-input-4-f83976a18052>\u001b[0m in \u001b[0;36m<module>\u001b[1;34m\u001b[0m\n\u001b[1;32m----> 1\u001b[1;33m \u001b[0mimg\u001b[0m \u001b[1;33m=\u001b[0m \u001b[0mimg_to_bw\u001b[0m\u001b[1;33m(\u001b[0m\u001b[0mdata_dir\u001b[0m \u001b[1;33m+\u001b[0m \u001b[1;34m'up.png'\u001b[0m\u001b[1;33m,\u001b[0m \u001b[0mdata_dir\u001b[0m \u001b[1;33m+\u001b[0m \u001b[1;34m'up_bw.png'\u001b[0m\u001b[1;33m)\u001b[0m\u001b[1;33m\u001b[0m\u001b[1;33m\u001b[0m\u001b[0m\n\u001b[0m\u001b[0;32m      2\u001b[0m \u001b[0mshow_grayscale_img\u001b[0m\u001b[1;33m(\u001b[0m\u001b[0mimg\u001b[0m\u001b[1;33m)\u001b[0m\u001b[1;33m\u001b[0m\u001b[1;33m\u001b[0m\u001b[0m\n",
      "\u001b[1;31mNameError\u001b[0m: name 'img_to_bw' is not defined"
     ]
    }
   ],
   "source": [
    "img = img_to_bw(data_dir + 'up.png', data_dir + 'up_bw.png')\n",
    "show_grayscale_img(img)"
   ]
  },
  {
   "cell_type": "markdown",
   "metadata": {
    "pycharm": {
     "name": "#%% md\n"
    }
   },
   "source": [
    "Now we can load the binary image and generate samples from it as described in the assignment sheet."
   ]
  },
  {
   "cell_type": "code",
   "execution_count": 2,
   "metadata": {
    "pycharm": {
     "name": "#%%\n"
    }
   },
   "outputs": [
    {
     "ename": "NameError",
     "evalue": "name 'load_image' is not defined",
     "output_type": "error",
     "traceback": [
      "\u001b[1;31m---------------------------------------------------------------------------\u001b[0m",
      "\u001b[1;31mNameError\u001b[0m                                 Traceback (most recent call last)",
      "\u001b[1;32m<ipython-input-2-d06f91fbf63e>\u001b[0m in \u001b[0;36m<module>\u001b[1;34m\u001b[0m\n\u001b[0;32m      1\u001b[0m \u001b[1;31m# load image\u001b[0m\u001b[1;33m\u001b[0m\u001b[1;33m\u001b[0m\u001b[1;33m\u001b[0m\u001b[0m\n\u001b[1;32m----> 2\u001b[1;33m \u001b[0mimg\u001b[0m \u001b[1;33m=\u001b[0m \u001b[0mload_image\u001b[0m\u001b[1;33m(\u001b[0m\u001b[0mdata_dir\u001b[0m \u001b[1;33m+\u001b[0m \u001b[1;34m'up_bw.png'\u001b[0m\u001b[1;33m)\u001b[0m\u001b[1;33m\u001b[0m\u001b[1;33m\u001b[0m\u001b[0m\n\u001b[0m\u001b[0;32m      3\u001b[0m \u001b[0mheight\u001b[0m\u001b[1;33m,\u001b[0m \u001b[0mwidth\u001b[0m \u001b[1;33m=\u001b[0m \u001b[0mimg\u001b[0m\u001b[1;33m.\u001b[0m\u001b[0mshape\u001b[0m\u001b[1;33m\u001b[0m\u001b[1;33m\u001b[0m\u001b[0m\n\u001b[0;32m      4\u001b[0m \u001b[0mprint\u001b[0m\u001b[1;33m(\u001b[0m\u001b[1;34mf'Our image format is {width} x {height}.'\u001b[0m\u001b[1;33m)\u001b[0m\u001b[1;33m\u001b[0m\u001b[1;33m\u001b[0m\u001b[0m\n\u001b[0;32m      5\u001b[0m \u001b[1;33m\u001b[0m\u001b[0m\n",
      "\u001b[1;31mNameError\u001b[0m: name 'load_image' is not defined"
     ]
    }
   ],
   "source": [
    "# load image\n",
    "img = load_image(data_dir + 'up_bw.png')\n",
    "height, width = img.shape\n",
    "print(f'Our image format is {width} x {height}.')\n",
    "\n",
    "# generate training samples\n",
    "n_samples = 2000 # number of samples to generate\n",
    "data = np.zeros((n_samples, 2))\n",
    "rng = np.random.default_rng(seed=0)\n",
    "i=0\n",
    "while i < n_samples:\n",
    "    row = rng.integers(0, height)\n",
    "    col = rng.integers(0, width)\n",
    "    if img[row, col] == 0:\n",
    "        data[i,0] = col\n",
    "        data[i,1] = row\n",
    "        i += 1\n",
    "\n",
    "# plot image with generated samples\n",
    "show_grayscale_img(img)\n",
    "plt.plot(data[:,0], data[:,1], 'x')\n",
    "plt.xlim([0, width])\n",
    "plt.ylim([0, height])"
   ]
  },
  {
   "cell_type": "markdown",
   "metadata": {},
   "source": [
    "Train your flow here."
   ]
  },
  {
   "cell_type": "markdown",
   "metadata": {},
   "source": [
    "### Task a) Implement a coupling flow (spline coupling flow)"
   ]
  },
  {
   "cell_type": "code",
   "execution_count": null,
   "metadata": {
    "pycharm": {
     "name": "#%%\n"
    }
   },
   "outputs": [],
   "source": [
    "input_dim = 2\n",
    "count_bins= 32\n",
    "base_dist = dist.Normal(torch.zeros(2), torch.ones(2))\n",
    "hidden_dims = [input_dim * 30, input_dim * 30]\n",
    "transform = T.spline_coupling(input_dim=input_dim, count_bins=count_bins, hidden_dims=hidden_dims)\n",
    "flow_dist = dist.TransformedDistribution(base_dist, [transform])"
   ]
  },
  {
   "cell_type": "code",
   "execution_count": null,
   "metadata": {},
   "outputs": [],
   "source": [
    "steps = 2_000\n",
    "\n",
    "dataset = torch.tensor(data/512, dtype=torch.float)\n",
    "optimizer = torch.optim.Adam(transform.parameters(), lr=1e-2)\n",
    "\n",
    "for step in range(steps+1):\n",
    "    optimizer.zero_grad()\n",
    "    loss = -flow_dist.log_prob(dataset).mean()\n",
    "    loss.backward()\n",
    "    optimizer.step()\n",
    "    flow_dist.clear_cache()\n",
    "\n",
    "    if step % 500 == 0:\n",
    "        print('step: {}, loss: {}'.format(step, loss.item()))"
   ]
  },
  {
   "cell_type": "markdown",
   "metadata": {},
   "source": [
    "Put your learned model to the test: generate and plot some test samples."
   ]
  },
  {
   "cell_type": "code",
   "execution_count": null,
   "metadata": {
    "pycharm": {
     "name": "#%%\n"
    },
    "scrolled": false
   },
   "outputs": [],
   "source": [
    "# generate samples from the learned distribution\n",
    "samples = flow_dist.sample(torch.Size([5000,])).detach().numpy()\n",
    "samples = samples*512\n",
    "\n",
    "plt.close('all')\n",
    "plt.figure(figsize=(10,10))\n",
    "show_grayscale_img(img)\n",
    "plt.scatter(samples[:,0], samples[:,1], color='firebrick', label='Generated Samples', alpha=0.5)\n",
    "plt.xlim([0,512])\n",
    "plt.ylim([0,512])\n",
    "plt.legend()\n"
   ]
  },
  {
   "cell_type": "markdown",
   "metadata": {
    "pycharm": {
     "name": "#%% md\n"
    }
   },
   "source": [
    "We also want to have a look at the log-likelihood of our model!"
   ]
  },
  {
   "cell_type": "code",
   "execution_count": null,
   "metadata": {
    "pycharm": {
     "name": "#%%\n"
    },
    "scrolled": false
   },
   "outputs": [],
   "source": [
    "# compute the log-likelihood at a discrete grid\n",
    "rows = np.arange(0, width)\n",
    "cols = np.arange(0, height)\n",
    "X, Y = np.meshgrid(cols, rows)\n",
    "\n",
    "# flatten the grid points and evaluate their log-liklihoods\n",
    "coordinates = torch.FloatTensor(np.stack((X,Y), axis=2)).view(-1, 2)\n",
    "log_likelihood = flow_dist.log_prob(coordinates/width).detach().view(-1,width).numpy()\n",
    "\n",
    "# finally, let's plot the log-likelihood\n",
    "fig, ax = plt.subplots()\n",
    "surf = ax.contourf(X, Y, log_likelihood, cmap=cm.coolwarm,  antialiased=False)\n",
    "\n",
    "fig.colorbar(surf, shrink=0.5, aspect=5)\n",
    "ax.set_xlabel('X')\n",
    "ax.set_ylabel('Y')\n"
   ]
  },
  {
   "cell_type": "markdown",
   "metadata": {},
   "source": [
    "### Task b) Implement an autoregressive flow (spline autoregressive flow)"
   ]
  },
  {
   "cell_type": "code",
   "execution_count": null,
   "metadata": {},
   "outputs": [],
   "source": [
    "from pyro.nn import AutoRegressiveNN\n",
    "\n",
    "input_dim = 2\n",
    "count_bins = 32\n",
    "base_dist = dist.Normal(torch.zeros(input_dim), torch.ones(input_dim))\n",
    "hidden_dims = [input_dim * 30, input_dim * 30]\n",
    "param_dims = [count_bins, count_bins, count_bins - 1, count_bins]\n",
    "hypernet = AutoRegressiveNN(input_dim, hidden_dims, param_dims=param_dims)\n",
    "transform = T.SplineAutoregressive(input_dim, hypernet, count_bins=count_bins)\n",
    "flow_dist = dist.TransformedDistribution(base_dist, [transform])"
   ]
  },
  {
   "cell_type": "code",
   "execution_count": null,
   "metadata": {},
   "outputs": [],
   "source": [
    "steps = 2_000\n",
    "\n",
    "dataset = torch.tensor(data/512, dtype=torch.float)\n",
    "#modules = torch.nn.ModuleList(transform)\n",
    "optimizer = torch.optim.Adam(transform.parameters(), lr=1e-2)\n",
    "\n",
    "for step in range(steps+1):\n",
    "    optimizer.zero_grad()\n",
    "    loss = -flow_dist.log_prob(dataset).mean()\n",
    "    loss.backward()\n",
    "    optimizer.step()\n",
    "    flow_dist.clear_cache()\n",
    "\n",
    "    if step % 500 == 0:\n",
    "        print('step: {}, loss: {}'.format(step, loss.item()))"
   ]
  },
  {
   "cell_type": "code",
   "execution_count": null,
   "metadata": {},
   "outputs": [],
   "source": [
    "# generate samples from the learned distribution\n",
    "samples = flow_dist.sample(torch.Size([5000,])).detach().numpy()\n",
    "samples = samples*512\n",
    "\n",
    "plt.close('all')\n",
    "plt.figure(figsize=(10,10))\n",
    "show_grayscale_img(img)\n",
    "plt.scatter(samples[:,0], samples[:,1], color='firebrick', label='Generated Samples', alpha=0.5)\n",
    "plt.xlim([0,512])\n",
    "plt.ylim([0,512])\n",
    "plt.legend()\n"
   ]
  },
  {
   "cell_type": "code",
   "execution_count": null,
   "metadata": {},
   "outputs": [],
   "source": [
    "# compute the log-likelihood at a discrete grid\n",
    "rows = np.arange(0, width)\n",
    "cols = np.arange(0, height)\n",
    "X, Y = np.meshgrid(cols, rows)\n",
    "\n",
    "# flatten the grid points and evaluate their log-liklihoods\n",
    "coordinates = torch.FloatTensor(np.stack((X,Y), axis=2)).view(-1, 2)\n",
    "log_likelihood = flow_dist.log_prob(coordinates/width).detach().view(-1,width).numpy()\n",
    "\n",
    "# finally, let's plot the log-likelihood\n",
    "fig, ax = plt.subplots()\n",
    "surf = ax.contourf(X, Y, log_likelihood, cmap=cm.coolwarm,  antialiased=False)\n",
    "\n",
    "fig.colorbar(surf, shrink=0.5, aspect=5)\n",
    "ax.set_xlabel('X')\n",
    "ax.set_ylabel('Y')\n"
   ]
  }
 ],
 "metadata": {
  "kernelspec": {
   "display_name": "Python 3",
   "language": "python",
   "name": "python3"
  },
  "language_info": {
   "codemirror_mode": {
    "name": "ipython",
    "version": 3
   },
   "file_extension": ".py",
   "mimetype": "text/x-python",
   "name": "python",
   "nbconvert_exporter": "python",
   "pygments_lexer": "ipython3",
   "version": "3.7.10"
  }
 },
 "nbformat": 4,
 "nbformat_minor": 1
}
