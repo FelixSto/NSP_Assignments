{
 "cells": [
  {
   "cell_type": "markdown",
   "metadata": {
    "collapsed": true,
    "pycharm": {
     "name": "#%% md\n"
    }
   },
   "source": [
    "# Assignment 1\n",
    "## Problem 6 - Normalizing Flows"
   ]
  },
  {
   "cell_type": "code",
   "execution_count": null,
   "metadata": {
    "pycharm": {
     "name": "#%%\n"
    }
   },
   "outputs": [],
   "source": [
    "%reload_ext autoreload\n",
    "%autoreload 2\n",
    "import matplotlib.pyplot as plt\n",
    "import numpy as np\n",
    "import pyro.distributions as dist\n",
    "import torch\n",
    "from matplotlib import cm\n",
    "from src.utils.io import load_image, img_to_bw\n",
    "\n",
    "from src.utils.plotting import init_plot_style, show_grayscale_img\n",
    "%pylab\n",
    "\n",
    "init_plot_style()\n",
    "data_dir='../../data/img/'"
   ]
  },
  {
   "cell_type": "markdown",
   "metadata": {
    "pycharm": {
     "name": "#%% md\n"
    }
   },
   "source": [
    "If necessary, we first have to convert our grayscale icons to a binary image."
   ]
  },
  {
   "cell_type": "code",
   "execution_count": null,
   "metadata": {
    "pycharm": {
     "name": "#%%\n"
    }
   },
   "outputs": [],
   "source": [
    "img = img_to_bw(data_dir + 'up.png', data_dir + 'up_bw.png')\n",
    "show_grayscale_img(img)"
   ]
  },
  {
   "cell_type": "markdown",
   "source": [
    "Now we can load the binary image and generate samples from it as described in the assignment sheet."
   ],
   "metadata": {
    "collapsed": false,
    "pycharm": {
     "name": "#%% md\n"
    }
   }
  },
  {
   "cell_type": "code",
   "execution_count": null,
   "outputs": [],
   "source": [
    "# load image\n",
    "img = load_image(data_dir + 'up_bw.png')\n",
    "height, width = img.shape\n",
    "print(f'Our image format is {width} x {height}.')\n",
    "\n",
    "# generate training samples\n",
    "n_samples = 1000 # number of samples to generate\n",
    "data = np.zeros((n_samples, 2))\n",
    "rng = np.random.default_rng(seed=0)\n",
    "i=0\n",
    "while i < n_samples:\n",
    "    row = rng.integers(0, height)\n",
    "    col = rng.integers(0, width)\n",
    "    if img[row, col] == 0:\n",
    "        data[i,0] = col\n",
    "        data[i,1] = row\n",
    "        i += 1\n",
    "\n",
    "# plot image with generated samples\n",
    "show_grayscale_img(img)\n",
    "plt.plot(data[:,0], data[:,1], 'x')\n",
    "plt.xlim([0, width])\n",
    "plt.ylim([0, height])"
   ],
   "metadata": {
    "collapsed": false,
    "pycharm": {
     "name": "#%%\n"
    }
   }
  },
  {
   "cell_type": "markdown",
   "source": [
    "Train your flow here."
   ],
   "metadata": {
    "collapsed": false
   }
  },
  {
   "cell_type": "code",
   "execution_count": null,
   "outputs": [],
   "source": [],
   "metadata": {
    "collapsed": false,
    "pycharm": {
     "name": "#%%\n"
    }
   }
  },
  {
   "cell_type": "markdown",
   "source": [
    "Put your learned model to the test: generate and plot some test samples."
   ],
   "metadata": {
    "collapsed": false
   }
  },
  {
   "cell_type": "code",
   "execution_count": null,
   "outputs": [],
   "source": [
    "# generate samples from the learned distribution\n",
    "samples = flow_dist.sample(torch.Size([5000,])).detach().numpy()\n",
    "\n",
    "plt.close('all')\n",
    "plt.figure(figsize=(10,10))\n",
    "# show_grayscale_img(img)\n",
    "plt.scatter(samples[:,0], samples[:,1], color='firebrick', label='Generated Samples', alpha=0.5)\n",
    "plt.xlim([0, width])\n",
    "plt.ylim([0, height])\n",
    "plt.legend()"
   ],
   "metadata": {
    "collapsed": false,
    "pycharm": {
     "name": "#%%\n"
    }
   }
  },
  {
   "cell_type": "markdown",
   "source": [
    "We also want to have a look at the log-likelihood of our model!"
   ],
   "metadata": {
    "collapsed": false,
    "pycharm": {
     "name": "#%% md\n"
    }
   }
  },
  {
   "cell_type": "code",
   "execution_count": null,
   "outputs": [],
   "source": [
    "# compute the log-likelihood at a discrete grid\n",
    "rows = np.arange(0, width)\n",
    "cols = np.arange(0, height)\n",
    "X, Y = np.meshgrid(cols, rows)\n",
    "\n",
    "# flatten the grid points and evaluate their log-liklihoods\n",
    "coordinates = torch.FloatTensor(np.stack((X,Y), axis=2)).view(-1, 2)\n",
    "log_likelihood = flow_dist.log_prob(coordinates/width).detach().view(-1,width).numpy()\n",
    "\n",
    "# finally, let's plot the log-likelihood\n",
    "fig, ax = plt.subplots(subplot_kw={\"projection\": \"3d\"})\n",
    "surf = ax.plot_surface(X, Y, log_likelihood, cmap=cm.coolwarm, linewidth=0, antialiased=False)\n",
    "ax.zaxis.set_major_formatter('{x:.02f}')\n",
    "ax.view_init(azim=-90, elev=90) # bird's eye view\n",
    "\n",
    "fig.colorbar(surf, shrink=0.5, aspect=5)\n",
    "ax.set_xlabel('X')\n",
    "ax.set_ylabel('Y')\n"
   ],
   "metadata": {
    "collapsed": false,
    "pycharm": {
     "name": "#%%\n"
    }
   }
  }
 ],
 "metadata": {
  "kernelspec": {
   "display_name": "Python 3",
   "language": "python",
   "name": "python3"
  },
  "language_info": {
   "codemirror_mode": {
    "name": "ipython",
    "version": 3
   },
   "file_extension": ".py",
   "mimetype": "text/x-python",
   "name": "python",
   "nbconvert_exporter": "python",
   "pygments_lexer": "ipython3",
   "version": "3.7.9"
  }
 },
 "nbformat": 4,
 "nbformat_minor": 1
}