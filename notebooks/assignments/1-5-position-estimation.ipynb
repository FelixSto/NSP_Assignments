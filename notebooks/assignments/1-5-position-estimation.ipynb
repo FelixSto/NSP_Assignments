{
 "cells": [
  {
   "cell_type": "code",
   "execution_count": 1,
   "id": "719427b3",
   "metadata": {},
   "outputs": [
    {
     "name": "stderr",
     "output_type": "stream",
     "text": [
      "UsageError: Line magic function `%autoreload` not found.\n"
     ]
    }
   ],
   "source": [
    "import autoreload\n",
    "#%load_ext autoreload\n",
    "%autoreload 2\n",
    "\n",
    "#%pylab\n",
    "%matplotlib inline  \n",
    "%reload_ext autoreload\n",
    "\n",
    "import matplotlib.pyplot as plt\n",
    "import numpy as np\n",
    "import matplotlib.ticker as tck\n",
    "\n",
    "from src.utils.plotting import init_plot_style\n",
    "from src.utils.plotting import ex2_signal_time_frequency\n",
    "from src.utils.dft import dft\n",
    "from scipy.fft import fft, fftfreq, fftshift\n",
    "\n",
    "init_plot_style()"
   ]
  },
  {
   "cell_type": "code",
   "execution_count": 5,
   "id": "653f8902",
   "metadata": {},
   "outputs": [
    {
     "ename": "NameError",
     "evalue": "name 'np' is not defined",
     "output_type": "error",
     "traceback": [
      "\u001b[1;31m---------------------------------------------------------------------------\u001b[0m",
      "\u001b[1;31mNameError\u001b[0m                                 Traceback (most recent call last)",
      "\u001b[1;32m<ipython-input-5-d9f6eec4deb6>\u001b[0m in \u001b[0;36m<module>\u001b[1;34m\u001b[0m\n\u001b[0;32m      1\u001b[0m \u001b[0mx\u001b[0m \u001b[1;33m=\u001b[0m \u001b[1;36m10\u001b[0m\u001b[1;33m\u001b[0m\u001b[1;33m\u001b[0m\u001b[0m\n\u001b[0;32m      2\u001b[0m \u001b[0my\u001b[0m \u001b[1;33m=\u001b[0m \u001b[1;36m40\u001b[0m\u001b[1;33m\u001b[0m\u001b[1;33m\u001b[0m\u001b[0m\n\u001b[1;32m----> 3\u001b[1;33m \u001b[0mz\u001b[0m \u001b[1;33m=\u001b[0m \u001b[0mnp\u001b[0m\u001b[1;33m.\u001b[0m\u001b[0marray\u001b[0m\u001b[1;33m(\u001b[0m\u001b[1;33m[\u001b[0m\u001b[0mx\u001b[0m\u001b[1;33m,\u001b[0m \u001b[0my\u001b[0m\u001b[1;33m]\u001b[0m\u001b[1;33m)\u001b[0m\u001b[1;33m\u001b[0m\u001b[1;33m\u001b[0m\u001b[0m\n\u001b[0m\u001b[0;32m      4\u001b[0m \u001b[1;33m\u001b[0m\u001b[0m\n\u001b[0;32m      5\u001b[0m \u001b[0mN_iter\u001b[0m \u001b[1;33m=\u001b[0m \u001b[1;36m100_000\u001b[0m\u001b[1;33m\u001b[0m\u001b[1;33m\u001b[0m\u001b[0m\n",
      "\u001b[1;31mNameError\u001b[0m: name 'np' is not defined"
     ]
    }
   ],
   "source": [
    "x = 10\n",
    "y = 40\n",
    "z = np.array([x, y])\n",
    "\n",
    "N_iter = 100_000\n",
    "\n",
    "r = np.sqrt(z[0]**2+z[1]**2)\n",
    "phi = np.arctan2(z[1],z[0])\n",
    "w = np.array([r,phi]).T\n",
    "w_hat = np.zeros([N_iter,w.size])\n",
    "\n",
    "for i in range(N_iter):\n",
    "    w_hat[i,:] = w+np.random.randn(2)\n",
    "    #w_hat[i,:] = w+np.random.uniform(-np.pi/2, np.pi/2,2)\n",
    "    \n"
   ]
  },
  {
   "cell_type": "code",
   "execution_count": null,
   "id": "f18ececd",
   "metadata": {},
   "outputs": [],
   "source": [
    "r_hist = np.hstack((w_hat[:,0]))\n",
    "phi_hist = np.hstack((w_hat[:,1]))\n",
    "\n",
    "fig,ax=plt.subplots(2,figsize=(12,12))\n",
    "\n",
    "ax[0].hist(r_hist, bins='auto',alpha = 0.5, density=True)\n",
    "ax[0].axvline(x=np.mean(r_hist), color='C1',label='Mean value')\n",
    "ax[0].axvline(x=r, color='C2',linestyle='dashed',label='True value')\n",
    "ax[0].set_xlabel(\"$\\hat{r}$\")\n",
    "ax[0].set_ylabel(\"pdf\")\n",
    "ax[0].legend()\n",
    "ax[1].hist(phi_hist, bins='auto',alpha = 0.5, density=True)\n",
    "ax[1].axvline(x=np.mean(phi_hist), color='C1',label='Mean value')\n",
    "ax[1].axvline(x=phi, color='C2',linestyle='dashed',label='True value')\n",
    "ax[1].set_xlabel(\"$\\hat{\\phi}$\")\n",
    "ax[1].set_ylabel(\"pdf\")\n",
    "ax[1].legend()\n",
    "ax[0].set_title(\"Histogram of $\\hat{w}$\")\n",
    "plt.tight_layout()"
   ]
  },
  {
   "cell_type": "markdown",
   "id": "51e0e855",
   "metadata": {},
   "source": [
    "### Estimator 1: \n",
    "$\\hat{\\mathbf{z}}_A$"
   ]
  },
  {
   "cell_type": "code",
   "execution_count": null,
   "id": "f6b00ca2",
   "metadata": {},
   "outputs": [],
   "source": [
    "x_mean_A = np.mean(w_hat[:,0])*np.cos(np.mean(w_hat[:,1]))\n",
    "y_mean_A =np.mean(w_hat[:,0])*np.sin(np.mean(w_hat[:,1]))"
   ]
  },
  {
   "cell_type": "markdown",
   "id": "7f2c26a3",
   "metadata": {},
   "source": [
    "### Estimator 2: \n",
    "$\\hat{\\mathbf{z}}_B$"
   ]
  },
  {
   "cell_type": "code",
   "execution_count": null,
   "id": "88be2316",
   "metadata": {},
   "outputs": [],
   "source": [
    "x_hat_B = w_hat[:,0]*np.cos(w_hat[:,1])\n",
    "y_hat_B = w_hat[:,0]*np.sin(w_hat[:,1])\n",
    "\n",
    "x_mean_B = np.mean(x_hat_B)\n",
    "y_mean_B = np.mean(y_hat_B)"
   ]
  },
  {
   "cell_type": "code",
   "execution_count": null,
   "id": "eacfff27",
   "metadata": {},
   "outputs": [],
   "source": [
    "fig,ax=plt.subplots(2,figsize=(12,12))\n",
    "\n",
    "ax[0].hist(x_hat_B, bins='auto',alpha = 0.5, density=True)\n",
    "ax[0].axvline(x=x_mean_B, color='C1',label='Mean value')\n",
    "ax[0].axvline(x=z[0], color='C2',linestyle='dashed',label='True value')\n",
    "ax[0].set_xlabel(\"$\\hat{x}$\")\n",
    "ax[0].set_ylabel(\"pdf\")\n",
    "ax[0].legend()\n",
    "ax[1].hist(y_hat_B, bins='auto',alpha = 0.5, density=True)\n",
    "ax[1].axvline(x=y_mean_B, color='C1',label='Mean value')\n",
    "ax[1].axvline(x=z[1], color='C2',linestyle='dashed',label='True value')\n",
    "ax[1].set_xlabel(\"$\\hat{y}$\")\n",
    "ax[1].set_ylabel(\"pdf\")\n",
    "ax[1].legend()\n",
    "ax[0].set_title(\"Histogram of $\\hat{z}$\")\n",
    "plt.tight_layout()"
   ]
  },
  {
   "cell_type": "markdown",
   "id": "f933a418",
   "metadata": {},
   "source": [
    "### Comparison:"
   ]
  },
  {
   "cell_type": "code",
   "execution_count": null,
   "id": "3ee67b26",
   "metadata": {},
   "outputs": [],
   "source": [
    "print('x_true = ',z[0],'  y_true = ',z[1])\n",
    "print('x_mean_A = ',x_mean_A,'  y_mean_A = ',y_mean_A)\n",
    "print('x_mean_B = ',x_mean_B,'  y_mean_B = ',y_mean_B)"
   ]
  }
 ],
 "metadata": {
  "kernelspec": {
   "display_name": "Python 3",
   "language": "python",
   "name": "python3"
  }
 },
 "nbformat": 4,
 "nbformat_minor": 5
}
