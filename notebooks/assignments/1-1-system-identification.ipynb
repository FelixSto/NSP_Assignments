{
 "cells": [
  {
   "cell_type": "markdown",
   "metadata": {
    "collapsed": true,
    "pycharm": {
     "name": "#%% md\n"
    }
   },
   "source": [
    "# Assignment 1\n",
    "## Problem 1 - System Identification"
   ]
  },
  {
   "cell_type": "code",
   "execution_count": 162,
   "metadata": {
    "pycharm": {
     "name": "#%%\n"
    }
   },
   "outputs": [
    {
     "name": "stdout",
     "output_type": "stream",
     "text": [
      "Using matplotlib backend: Qt5Agg\n",
      "Populating the interactive namespace from numpy and matplotlib\n"
     ]
    }
   ],
   "source": [
    "%reload_ext autoreload\n",
    "%autoreload 2\n",
    "import matplotlib.pyplot as plt\n",
    "import pandas as pd\n",
    "\n",
    "# from src.models.mls_models import MyFancyModel\n",
    "from src.utils.plotting import init_plot_style\n",
    "%pylab\n",
    "\n",
    "init_plot_style()\n",
    "data_dir='../../data/csv/1_1_system_identification/'\n"
   ]
  },
  {
   "cell_type": "markdown",
   "metadata": {},
   "source": [
    "First, let's take a look at the training and test data."
   ]
  },
  {
   "cell_type": "code",
   "execution_count": 163,
   "metadata": {
    "pycharm": {
     "name": "#%%\n"
    }
   },
   "outputs": [],
   "source": [
    "training_set = pd.read_csv(data_dir + 'training-set.csv').to_numpy()\n",
    "x_train, y_train = training_set[:,0], training_set[:,1]\n",
    "\n",
    "test_set = pd.read_csv(data_dir + 'test-set.csv').to_numpy()\n",
    "x_test, y_test = test_set[:,0], test_set[:,1]\n",
    "\n",
    "plt.close('all')\n",
    "plt.figure()\n",
    "plt.plot(x_train, y_train, 'x', label='Training Set')\n",
    "plt.plot(x_test, y_test, '^', label='Test Set')\n",
    "plt.legend()\n",
    "plt.grid()\n",
    "plt.tight_layout()\n",
    "plt.show()\n"
   ]
  },
  {
   "cell_type": "markdown",
   "metadata": {
    "pycharm": {
     "name": "#%% md\n"
    }
   },
   "source": [
    "Run your experiments from here on!"
   ]
  },
  {
   "cell_type": "code",
   "execution_count": 83,
   "metadata": {},
   "outputs": [],
   "source": [
    "#Define MSE Cost function\n",
    "\n",
    "def MSE(p,x,y):\n",
    "        \"\"\"Computing the 1D-MSE, given the polynomial coefficents p, the places x and the data y  \"\"\"\n",
    "        y_hat = np.polyval(p,x) \n",
    "        error = (y_hat-y)**2    \n",
    "        mse = np.mean(error)\n",
    "        return mse    \n",
    "    "
   ]
  },
  {
   "cell_type": "markdown",
   "metadata": {},
   "source": [
    "**Task a)** Find a suitable polynomial model using the test set"
   ]
  },
  {
   "cell_type": "code",
   "execution_count": 122,
   "metadata": {
    "scrolled": true
   },
   "outputs": [
    {
     "name": "stderr",
     "output_type": "stream",
     "text": [
      "C:\\Users\\Felix\\anaconda3\\envs\\nsp2021\\lib\\site-packages\\IPython\\core\\interactiveshell.py:3437: RankWarning: Polyfit may be poorly conditioned\n",
      "  exec(code_obj, self.user_global_ns, self.user_ns)\n",
      "C:\\Users\\Felix\\anaconda3\\envs\\nsp2021\\lib\\site-packages\\IPython\\core\\interactiveshell.py:3437: RankWarning: Polyfit may be poorly conditioned\n",
      "  exec(code_obj, self.user_global_ns, self.user_ns)\n",
      "C:\\Users\\Felix\\anaconda3\\envs\\nsp2021\\lib\\site-packages\\IPython\\core\\interactiveshell.py:3437: RankWarning: Polyfit may be poorly conditioned\n",
      "  exec(code_obj, self.user_global_ns, self.user_ns)\n",
      "C:\\Users\\Felix\\anaconda3\\envs\\nsp2021\\lib\\site-packages\\IPython\\core\\interactiveshell.py:3437: RankWarning: Polyfit may be poorly conditioned\n",
      "  exec(code_obj, self.user_global_ns, self.user_ns)\n",
      "C:\\Users\\Felix\\anaconda3\\envs\\nsp2021\\lib\\site-packages\\IPython\\core\\interactiveshell.py:3437: RankWarning: Polyfit may be poorly conditioned\n",
      "  exec(code_obj, self.user_global_ns, self.user_ns)\n",
      "C:\\Users\\Felix\\anaconda3\\envs\\nsp2021\\lib\\site-packages\\IPython\\core\\interactiveshell.py:3437: RankWarning: Polyfit may be poorly conditioned\n",
      "  exec(code_obj, self.user_global_ns, self.user_ns)\n",
      "C:\\Users\\Felix\\anaconda3\\envs\\nsp2021\\lib\\site-packages\\IPython\\core\\interactiveshell.py:3437: RankWarning: Polyfit may be poorly conditioned\n",
      "  exec(code_obj, self.user_global_ns, self.user_ns)\n"
     ]
    },
    {
     "ename": "NameError",
     "evalue": "name 'clc' is not defined",
     "output_type": "error",
     "traceback": [
      "\u001b[1;31m---------------------------------------------------------------------------\u001b[0m",
      "\u001b[1;31mNameError\u001b[0m                                 Traceback (most recent call last)",
      "\u001b[1;32m<ipython-input-122-0dcd4d54f5a3>\u001b[0m in \u001b[0;36m<module>\u001b[1;34m\u001b[0m\n\u001b[0;32m     22\u001b[0m \u001b[0mplt\u001b[0m\u001b[1;33m.\u001b[0m\u001b[0mshow\u001b[0m\u001b[1;33m(\u001b[0m\u001b[1;33m)\u001b[0m\u001b[1;33m\u001b[0m\u001b[1;33m\u001b[0m\u001b[0m\n\u001b[0;32m     23\u001b[0m \u001b[1;33m\u001b[0m\u001b[0m\n\u001b[1;32m---> 24\u001b[1;33m \u001b[0mclc\u001b[0m\u001b[1;33m\u001b[0m\u001b[1;33m\u001b[0m\u001b[0m\n\u001b[0m",
      "\u001b[1;31mNameError\u001b[0m: name 'clc' is not defined"
     ]
    }
   ],
   "source": [
    "#First test just with polyfit\n",
    "\n",
    "P_max = 25\n",
    "residuals_train = np.zeros(P_max)\n",
    "residuals_test = np.zeros(P_max)\n",
    "\n",
    "for order in range(1,P_max+1):\n",
    "    \n",
    "    #[p, residuals[order-1], rank, singular_values, rcond] = np.polyfit(x_train, y_train, order, full=True)\n",
    "    p = np.polyfit(x_train, y_train, order, full=False)\n",
    "    residuals_train[order-1] = MSE(p,x_train, y_train)\n",
    "    residuals_test[order-1] = MSE(p,x_test, y_test)\n",
    "    \n",
    "plt.figure(figsize=(8,5))\n",
    "plt.plot(np.arange(0,25),residuals_train, label='Training Set')\n",
    "plt.plot(np.arange(0,25), residuals_test, label='Test Set')\n",
    "plt.legend()\n",
    "plt.xlabel('Polynomial order P')\n",
    "plt.ylabel('MSE')\n",
    "plt.grid()\n",
    "plt.tight_layout()\n",
    "plt.show()\n"
   ]
  },
  {
   "cell_type": "markdown",
   "metadata": {},
   "source": [
    "**Task b)** Use a subset of the original training set as validation set. Training and validation set must be disjoint."
   ]
  },
  {
   "cell_type": "code",
   "execution_count": 179,
   "metadata": {},
   "outputs": [
    {
     "name": "stdout",
     "output_type": "stream",
     "text": [
      "[18 14 36  4 11 15 25 47 39 21 35  0 12  8 28 30 34 17 40  7 32 16 38 23\n",
      "  5 27 29 13 22 31 41 37 49 43  9  6 44  1 48  2 42 46 20 19 10  3 24 33\n",
      " 45 26]\n"
     ]
    }
   ],
   "source": [
    "TV_ratio = 1 #Define splitting ratio btw. training and validation set, in [0,1]\n",
    "\n",
    "N_sample = size(x_train)\n",
    "Val_size = np.ceil(N_sample*TV_ratio)\n",
    "\n",
    "rng = default_rng()\n",
    "pos = rng.choice(N_sample,Val_size.astype(int), replace=False) #Draw non-repetitive random numbers\n",
    "\n",
    "print(pos)\n",
    "\n",
    "x_validation = x_train[pos]\n",
    "y_validation = y_train[pos]\n",
    "\n",
    "x_train2 = np.delete(x_train, pos)\n",
    "y_train2 = np.delete(y_train, pos)\n",
    "\n",
    "plt.figure()\n",
    "plt.plot(x_train2, y_train2, 'x', label='Training Set')\n",
    "plt.plot(x_test, y_test, '^', label='Test Set')\n",
    "plt.plot(x_validation, y_validation, 'o', label='Validation Set')\n",
    "plt.legend()\n",
    "plt.grid()\n",
    "plt.tight_layout()\n",
    "plt.show()"
   ]
  }
 ],
 "metadata": {
  "kernelspec": {
   "display_name": "Python 3",
   "language": "python",
   "name": "python3"
  },
  "language_info": {
   "codemirror_mode": {
    "name": "ipython",
    "version": 3
   },
   "file_extension": ".py",
   "mimetype": "text/x-python",
   "name": "python",
   "nbconvert_exporter": "python",
   "pygments_lexer": "ipython3",
   "version": "3.7.9"
  }
 },
 "nbformat": 4,
 "nbformat_minor": 1
}
