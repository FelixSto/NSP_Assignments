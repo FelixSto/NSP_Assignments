{
 "cells": [
  {
   "cell_type": "markdown",
   "metadata": {
    "collapsed": true,
    "pycharm": {
     "name": "#%% md\n"
    }
   },
   "source": [
    "# Analysis of Fading-Memory Systems with Higher Order Statistics\n",
    "\n",
    "We will have a look at practical issues when analysing fading memory systems\n",
    "higher order statistics.\n",
    "\n",
    "So let's get started. First, we need some imports."
   ]
  },
  {
   "cell_type": "code",
   "execution_count": 1,
   "metadata": {
    "pycharm": {
     "name": "#%%\n"
    }
   },
   "outputs": [
    {
     "name": "stderr",
     "output_type": "stream",
     "text": [
      "/home/sophie/miniconda3/envs/nsp2021/lib/python3.7/site-packages/stingray/crossspectrum.py:21: UserWarning: Using standard scipy fft\n",
      "  warnings.warn(\"Using standard scipy fft\")\n"
     ]
    }
   ],
   "source": [
    "%reload_ext autoreload\n",
    "%autoreload 2\n",
    "import matplotlib.pyplot as plt\n",
    "import numpy as np\n",
    "import scipy.signal as ssig\n",
    "from scipy.linalg import hankel\n",
    "from stingray.bispectrum import Bispectrum\n",
    "from stingray.lightcurve import Lightcurve\n",
    "\n",
    "from src.utils.plotting import init_plot_style\n",
    "# %pylab\n",
    "\n",
    "# initialize our global plot style\n",
    "init_plot_style()"
   ]
  },
  {
   "cell_type": "markdown",
   "metadata": {},
   "source": [
    "We define a linear and a nonlinear fading memory system for later analysis."
   ]
  },
  {
   "cell_type": "code",
   "execution_count": 2,
   "metadata": {
    "pycharm": {
     "name": "#%%\n"
    }
   },
   "outputs": [],
   "source": [
    "def linsys(x, order = 5, cutoff = 0.3):\n",
    "    \"\"\"Implements a linear, causal IIR filter..\n",
    "\n",
    "    Parameters\n",
    "    ----------\n",
    "    x : float or numpy.ndarray\n",
    "        The systems input.\n",
    "\n",
    "    Returns\n",
    "    ------\n",
    "    float or numpy.ndarray\n",
    "        The corresponding system output.\n",
    "    \"\"\"\n",
    "    b, a = ssig.butter(order, cutoff)\n",
    "    y = ssig.lfilter(b, a, x)\n",
    "    return y\n",
    "\n",
    "def system(x):\n",
    "    \"\"\"Implements a deterministic, fading memory nonlinearity.\n",
    "\n",
    "    To generate an output of equal length as the input signal we apply zero-padding.\n",
    "\n",
    "    Parameters\n",
    "    ----------\n",
    "    x : float or numpy.ndarray\n",
    "        The systems input.\n",
    "\n",
    "    Returns\n",
    "    ------\n",
    "    float or numpy.ndarray\n",
    "        The corresponding system output.\n",
    "    \"\"\"\n",
    "    mem_depth = 5\n",
    "    weights = np.array([1.1, 4.5, 1.4, 1.3, 3.2])\n",
    "    padded_x = np.concatenate((np.zeros(mem_depth - 1,), x))\n",
    "    X = hankel(padded_x[:mem_depth], padded_x[mem_depth-1:])\n",
    "    X[0,:] = (X[0,:] - X[4,:])**2\n",
    "    X[1,:] = np.exp(-np.abs(X[1,:] - X[2,:]))\n",
    "    X[2,:] = np.sqrt(np.abs(X[2,:]))\n",
    "    X[3,:] = X[3,:] *  X[4,:]\n",
    "    X[4,:] = np.log(np.abs(X[4,:]) + 1e-3)\n",
    "    out = weights.dot(X)\n",
    "    return out - np.mean(out)\n"
   ]
  },
  {
   "cell_type": "markdown",
   "metadata": {
    "pycharm": {
     "name": "#%% md\n"
    }
   },
   "source": [
    "Here we make a simple correlation analysis."
   ]
  },
  {
   "cell_type": "code",
   "execution_count": 3,
   "metadata": {
    "pycharm": {
     "name": "#%%\n"
    }
   },
   "outputs": [
    {
     "ename": "AttributeError",
     "evalue": "module 'scipy.signal' has no attribute 'correlation_lags'",
     "output_type": "error",
     "traceback": [
      "\u001b[0;31m---------------------------------------------------------------------------\u001b[0m",
      "\u001b[0;31mAttributeError\u001b[0m                            Traceback (most recent call last)",
      "\u001b[0;32m<ipython-input-3-dab9f7e5dc83>\u001b[0m in \u001b[0;36m<module>\u001b[0;34m\u001b[0m\n\u001b[1;32m      8\u001b[0m \u001b[0mmax_lag\u001b[0m \u001b[0;34m=\u001b[0m \u001b[0;36m20\u001b[0m\u001b[0;34m\u001b[0m\u001b[0;34m\u001b[0m\u001b[0m\n\u001b[1;32m      9\u001b[0m \u001b[0mxcorr\u001b[0m \u001b[0;34m=\u001b[0m \u001b[0mssig\u001b[0m\u001b[0;34m.\u001b[0m\u001b[0mcorrelate\u001b[0m\u001b[0;34m(\u001b[0m\u001b[0my\u001b[0m\u001b[0;34m,\u001b[0m \u001b[0my\u001b[0m\u001b[0;34m,\u001b[0m \u001b[0mmode\u001b[0m\u001b[0;34m=\u001b[0m\u001b[0;34m'same'\u001b[0m\u001b[0;34m)\u001b[0m \u001b[0;34m/\u001b[0m \u001b[0mn_samples\u001b[0m\u001b[0;34m\u001b[0m\u001b[0;34m\u001b[0m\u001b[0m\n\u001b[0;32m---> 10\u001b[0;31m \u001b[0mlags\u001b[0m \u001b[0;34m=\u001b[0m \u001b[0mssig\u001b[0m\u001b[0;34m.\u001b[0m\u001b[0mcorrelation_lags\u001b[0m\u001b[0;34m(\u001b[0m\u001b[0mn_samples\u001b[0m\u001b[0;34m,\u001b[0m \u001b[0mn_samples\u001b[0m\u001b[0;34m,\u001b[0m \u001b[0mmode\u001b[0m\u001b[0;34m=\u001b[0m\u001b[0;34m'same'\u001b[0m\u001b[0;34m)\u001b[0m\u001b[0;34m\u001b[0m\u001b[0;34m\u001b[0m\u001b[0m\n\u001b[0m\u001b[1;32m     11\u001b[0m \u001b[0;34m\u001b[0m\u001b[0m\n\u001b[1;32m     12\u001b[0m \u001b[0;31m# plot the correlation function\u001b[0m\u001b[0;34m\u001b[0m\u001b[0;34m\u001b[0m\u001b[0;34m\u001b[0m\u001b[0m\n",
      "\u001b[0;31mAttributeError\u001b[0m: module 'scipy.signal' has no attribute 'correlation_lags'"
     ]
    }
   ],
   "source": [
    "# generate input and output signals\n",
    "n_samples = int(1e3)\n",
    "x = np.random.randn(n_samples)\n",
    "y = linsys(x, order=3)\n",
    "# y = system(x)\n",
    "\n",
    "# compute correlation function\n",
    "max_lag = 20\n",
    "xcorr = ssig.correlate(y, y, mode='same') / n_samples\n",
    "lags = ssig.correlation_lags(n_samples, n_samples, mode='same')\n",
    "\n",
    "# plot the correlation function\n",
    "plt.close('all')\n",
    "plt.figure()\n",
    "plt.stem(lags[np.abs(lags)<max_lag], xcorr[np.abs(lags)<max_lag])\n",
    "plt.xlabel('Time Lag, $k$')\n",
    "plt.ylabel('Autocorrelation')\n",
    "plt.tight_layout()\n"
   ]
  },
  {
   "cell_type": "markdown",
   "metadata": {},
   "source": [
    "Next, we have a look at second-order statistics: (cross) power spectral density and coherence.\n"
   ]
  },
  {
   "cell_type": "code",
   "execution_count": null,
   "metadata": {
    "pycharm": {
     "name": "#%%\n"
    }
   },
   "outputs": [],
   "source": [
    "# generate input and output signals\n",
    "n_samples = int(1e3)\n",
    "x = np.random.randn(n_samples)\n",
    "y = linsys(x, order=3)\n",
    "# y = system(x)\n",
    "\n",
    "# estimation parameters\n",
    "win = 'rect'\n",
    "win_length = 512\n",
    "nfft = max(win_length, 1024)\n",
    "\n",
    "# estimate psd, cpsd and coherence\n",
    "f_psd, psd = ssig.welch(y, nperseg=win_length, nfft=nfft, window=win)\n",
    "f_csd, csd = ssig.csd(x, y, nperseg=win_length, nfft=nfft, window=win)\n",
    "f_coh, coh = ssig.coherence(x, y, nperseg=win_length, nfft=nfft, window=win)\n",
    "\n",
    "# plot the spectra\n",
    "plt.close('all')\n",
    "fig, ax1 = plt.subplots()\n",
    "ax2 = ax1.twinx()\n",
    "ax1.plot(f_psd[1:], np.abs(psd)[1:], label='PSD(y)')\n",
    "ax1.plot(f_csd[1:], np.abs(csd)[1:], label='CPSD(x, y)')\n",
    "ax1.semilogy()\n",
    "# ax1.set_ylim([1e-8, 1e1])\n",
    "ax2.plot(f_coh, np.abs(coh), 'seagreen')\n",
    "ax2.set_ylabel('Coherence', color='seagreen')\n",
    "ax2.tick_params(axis='y', labelcolor='seagreen')\n",
    "plt.xlabel(r'Normalized Frequency, $\\theta$')\n",
    "ax1.legend(loc=1)\n",
    "plt.tight_layout()\n"
   ]
  },
  {
   "cell_type": "markdown",
   "metadata": {
    "pycharm": {
     "name": "#%% md\n"
    }
   },
   "source": [
    "Finally, we have a look at bispectra!\n"
   ]
  },
  {
   "cell_type": "code",
   "execution_count": null,
   "metadata": {
    "pycharm": {
     "name": "#%%\n"
    }
   },
   "outputs": [],
   "source": [
    "# generate input and output signals\n",
    "n_samples = int(1e4)\n",
    "x = np.random.randn(n_samples)\n",
    "y = linsys(x, order=3)\n",
    "# y = system(x)\n",
    "\n",
    "# estimation parameters\n",
    "win = 'welch'\n",
    "max_lag = 256\n",
    "nfft = max(win_length, 1024)\n",
    "\n",
    "lc = Lightcurve(np.arange(n_samples), y, dt=1, skip_checks=True)\n",
    "bs = Bispectrum(lc, maxlag=max_lag, window=win, scale='unbiased')\n",
    "\n",
    "# plot the bispectrum\n",
    "plt.close('all')\n",
    "fig, ax = plt.subplots()\n",
    "bs.plot_mag()"
   ]
  }
 ],
 "metadata": {
  "kernelspec": {
   "display_name": "Python 3",
   "language": "python",
   "name": "python3"
  },
  "language_info": {
   "codemirror_mode": {
    "name": "ipython",
    "version": 3
   },
   "file_extension": ".py",
   "mimetype": "text/x-python",
   "name": "python",
   "nbconvert_exporter": "python",
   "pygments_lexer": "ipython3",
   "version": "3.7.9"
  }
 },
 "nbformat": 4,
 "nbformat_minor": 1
}
