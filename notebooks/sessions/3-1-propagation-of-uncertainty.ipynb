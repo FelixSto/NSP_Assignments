{
 "cells": [
  {
   "cell_type": "markdown",
   "metadata": {
    "collapsed": true,
    "pycharm": {
     "name": "#%% md\n"
    }
   },
   "source": [
    "# Propagation of Uncertainty\n",
    "\n",
    "In this notebook we take a look at the effect of a system on the input distribution.\n",
    "First, the necessary imports."
   ]
  },
  {
   "cell_type": "code",
   "execution_count": null,
   "metadata": {
    "pycharm": {
     "name": "#%%\n"
    }
   },
   "outputs": [],
   "source": [
    "%reload_ext autoreload\n",
    "%autoreload 2\n",
    "import matplotlib.pyplot as plt\n",
    "import numpy as np\n",
    "\n",
    "from src.utils.plotting import init_plot_style\n",
    "\n",
    "init_plot_style()"
   ]
  },
  {
   "cell_type": "markdown",
   "source": [
    "We start with a simple Gaussian and apply an affine transform."
   ],
   "metadata": {
    "collapsed": false,
    "pycharm": {
     "name": "#%% md\n"
    }
   }
  },
  {
   "cell_type": "code",
   "execution_count": null,
   "outputs": [],
   "source": [
    "# define analytic pdf + system functions\n",
    "support = np.linspace(-5, 5, 500)\n",
    "pz = lambda z: np.exp(-z**2/2) / np.sqrt(2*np.pi)\n",
    "f = lambda z: 0.5*z + 2\n",
    "f_inv = lambda x: (x - 2) / 0.5\n",
    "det_f_inv = 1 / 0.5\n",
    "\n",
    "# plot the analytic pdfs\n",
    "plt.close('all')\n",
    "plt.figure()\n",
    "plt.plot(support, pz(support), label=r'$p_Z$')\n",
    "plt.plot(support, det_f_inv * pz(f_inv(support)), label=r'$p_X$')\n",
    "plt.xlabel('Support')\n",
    "plt.ylabel('PDF')\n",
    "plt.legend()\n",
    "plt.tight_layout()"
   ],
   "metadata": {
    "collapsed": false,
    "pycharm": {
     "name": "#%%\n"
    }
   }
  },
  {
   "cell_type": "markdown",
   "metadata": {
    "pycharm": {
     "name": "#%% md\n"
    }
   },
   "source": [
    "Here a small numerical test on generated samples."
   ]
  },
  {
   "cell_type": "code",
   "execution_count": null,
   "metadata": {
    "pycharm": {
     "name": "#%%\n"
    }
   },
   "outputs": [],
   "source": [
    "# draw samples from pz\n",
    "rng = np.random.default_rng()\n",
    "n_samples = 5000\n",
    "z_samples = rng.normal(0,1, n_samples)\n",
    "\n",
    "print(f'Estimated mean of Z is {np.mean(z_samples)}')\n",
    "print(f'Estimated std deviation of Z is {np.std(z_samples, ddof=1)}')\n",
    "\n",
    "# propagate the samples over the system and compute statistics\n",
    "x_samples = f(z_samples)\n",
    "\n",
    "print(f'Estimated mean of X is {np.mean(x_samples)}')\n",
    "print(f'Estimated std deviation of X is {np.std(x_samples, ddof=1)}')\n"
   ]
  },
  {
   "cell_type": "markdown",
   "source": [
    "Now we propagate our Gaussian input data over a tanh function!"
   ],
   "metadata": {
    "collapsed": false
   }
  },
  {
   "cell_type": "code",
   "execution_count": null,
   "outputs": [],
   "source": [
    "# define analytic pdf + system functions\n",
    "support = np.linspace(-5, 5, 500)\n",
    "support_x = np.linspace(-1+1e-8, 1-1e-8, 500)\n",
    "pz = lambda z: np.exp(-z**2/2) / np.sqrt(2*np.pi)\n",
    "f = lambda z: np.tanh(z)\n",
    "f_inv = lambda x: np.arctanh(x)\n",
    "det_f_inv = lambda x: 1 / (1 - x**2)\n",
    "\n",
    "# plot the analytic pdfs\n",
    "plt.close('all')\n",
    "plt.figure()\n",
    "plt.plot(support, pz(support), label=r'$p_Z$')\n",
    "plt.plot(support_x, det_f_inv(support_x) * pz(f_inv(support_x)), label=r'$p_X$')\n",
    "plt.xlabel('Support')\n",
    "plt.ylabel('PDF')\n",
    "plt.legend()\n",
    "plt.tight_layout()"
   ],
   "metadata": {
    "collapsed": false,
    "pycharm": {
     "name": "#%%\n"
    }
   }
  },
  {
   "cell_type": "markdown",
   "source": [
    "Here we generate some samples and look at the histogram of the transformed samples."
   ],
   "metadata": {
    "collapsed": false
   }
  },
  {
   "cell_type": "code",
   "execution_count": null,
   "outputs": [],
   "source": [
    "# draw samples from pz\n",
    "rng = np.random.default_rng()\n",
    "n_samples = int(1e6)\n",
    "z_samples = rng.normal(0,1, n_samples)\n",
    "x_samples = f(z_samples)\n",
    "\n",
    "# plot the histogram\n",
    "plt.close('all')\n",
    "plt.figure()\n",
    "plt.hist(x_samples, bins=50, density=True)\n",
    "plt.xlabel(r'Support, $x$')\n",
    "plt.ylabel(r'PDF, $p_X$')\n",
    "plt.tight_layout()\n"
   ],
   "metadata": {
    "collapsed": false,
    "pycharm": {
     "name": "#%%\n"
    }
   }
  }
 ],
 "metadata": {
  "kernelspec": {
   "display_name": "Python 3",
   "language": "python",
   "name": "python3"
  },
  "language_info": {
   "codemirror_mode": {
    "name": "ipython",
    "version": 3
   },
   "file_extension": ".py",
   "mimetype": "text/x-python",
   "name": "python",
   "nbconvert_exporter": "python",
   "pygments_lexer": "ipython3",
   "version": "3.7.9"
  }
 },
 "nbformat": 4,
 "nbformat_minor": 1
}