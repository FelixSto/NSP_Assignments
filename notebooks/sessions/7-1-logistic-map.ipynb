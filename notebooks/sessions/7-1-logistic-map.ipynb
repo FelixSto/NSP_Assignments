{
 "cells": [
  {
   "cell_type": "markdown",
   "metadata": {
    "collapsed": true,
    "pycharm": {
     "name": "#%% md\n"
    }
   },
   "source": [
    "# The Logistic Map\n",
    "\n",
    "In this notebook we take a look at the logistic map as an example of a discrete-time\n",
    "dynamical system that can exhibit chaotic behaviour. We implement the system, look at fixed points and their stability,\n",
    "and some example (chaotic) trajectories. Finally, we characterize the logistic map by means of a bifurcation plot and\n",
    "the Ljapunov exponent.\n",
    "\n",
    "So let's get started. First, we need some imports."
   ]
  },
  {
   "cell_type": "code",
   "execution_count": null,
   "outputs": [],
   "source": [
    "import matplotlib.pyplot as plt\n",
    "import numpy as np\n",
    "from matplotlib import animation\n",
    "\n",
    "from src.utils.plotting import init_plot_style\n",
    "\n",
    "# %matplotlib\n",
    "\n",
    "# initialize our global plot style\n",
    "init_plot_style()"
   ],
   "metadata": {
    "collapsed": false,
    "pycharm": {
     "name": "#%%\n"
    }
   }
  },
  {
   "cell_type": "markdown",
   "source": [
    "Below we implement the logistic map, it's derivative, and a convenience function to compute trajectories for given\n",
    "initial states."
   ],
   "metadata": {
    "collapsed": false
   }
  },
  {
   "cell_type": "code",
   "execution_count": null,
   "outputs": [],
   "source": [
    "class LogisticMap:\n",
    "    \"\"\"\n",
    "    Implementation of the logistic map.\n",
    "    \"\"\"\n",
    "\n",
    "    def __init__(self, r: float):\n",
    "        \"\"\"\n",
    "        Parameters\n",
    "        ----------\n",
    "        r : float\n",
    "            Control parameter of the logistic map.\n",
    "        \"\"\"\n",
    "        self.r = r\n",
    "\n",
    "    def __call__(self, x: np.ndarray):\n",
    "        \"\"\" The logistic map.\n",
    "\n",
    "        Parameters\n",
    "        ----------\n",
    "        x : numpy.ndarray\n",
    "            State or batch of states\n",
    "\n",
    "        Returns\n",
    "        ------\n",
    "        numpy.ndarray\n",
    "            The logistic map applied to the input state(s)\n",
    "        \"\"\"\n",
    "        return self.r * x * (1. - x)\n",
    "\n",
    "    def derivative(self, x: np.ndarray):\n",
    "        \"\"\" Derivative of the logistic map evaluated at the input state(s).\n",
    "\n",
    "        Parameters\n",
    "        ----------\n",
    "        x : numpy.ndarray\n",
    "            State or batch of states\n",
    "\n",
    "        Returns\n",
    "        ------\n",
    "         numpy.ndarray\n",
    "            The derivative(s) evaluated at x\n",
    "        \"\"\"\n",
    "        return self.r * (1. - 2. * x)\n",
    "\n",
    "    def compute_trajectory(self, x0: np.ndarray, n_max: int):\n",
    "        \"\"\" Computes the system trajectory for a given initial state.\n",
    "\n",
    "        Parameters\n",
    "        ----------\n",
    "        x0 : numpy.ndarray\n",
    "            Initial state(s)\n",
    "        n_max : int\n",
    "            Trajectory length\n",
    "\n",
    "        Returns\n",
    "        ------\n",
    "         numpy.ndarray\n",
    "            The trajectories (sequence of states for each inital state)\n",
    "        \"\"\"\n",
    "        if np.isscalar(x0):\n",
    "            x0 = np.array(x0)\n",
    "\n",
    "        x0 = x0.reshape((-1,))\n",
    "\n",
    "        trajectories = np.zeros((len(x0), n_max))\n",
    "        trajectories[:, 0] = x0\n",
    "        for n in range(1, n_max):\n",
    "            trajectories[:, n] = self(trajectories[:, n - 1])\n",
    "\n",
    "        return trajectories if len(x0) > 1 else trajectories.squeeze(0)\n",
    "\n"
   ],
   "metadata": {
    "collapsed": false,
    "pycharm": {
     "name": "#%%\n"
    }
   }
  },
  {
   "cell_type": "markdown",
   "source": [
    "We can now instantiate our system with the desired parameters and\n",
    "look at an example trajectory."
   ],
   "metadata": {
    "collapsed": false,
    "pycharm": {
     "name": "#%% md\n"
    }
   }
  },
  {
   "cell_type": "code",
   "execution_count": null,
   "outputs": [],
   "source": [
    "# parameters\n",
    "r = 4.\n",
    "x0 = 0.1\n",
    "\n",
    "# instantiate logistic map +  compute trajectory\n",
    "logmap = LogisticMap(r=r)\n",
    "trajectory = logmap.compute_trajectory(x0, n_max=500)\n",
    "\n",
    "# plot trajectory as a function of time\n",
    "plt.close('all')\n",
    "plt.figure()\n",
    "plt.plot(trajectory[:50])\n",
    "plt.xlabel('Time Step, $n$')\n",
    "plt.ylabel('State, $x_n$')\n",
    "plt.tight_layout()"
   ],
   "metadata": {
    "collapsed": false,
    "pycharm": {
     "name": "#%%\n"
    }
   }
  },
  {
   "cell_type": "markdown",
   "source": [
    "Next, we plot our logistic map over the state space including fixed points. To get an intuition of the logistic map's\n",
    "behaviour, we animate the trajectory in this state-space plot."
   ],
   "metadata": {
    "collapsed": false
   }
  },
  {
   "cell_type": "code",
   "execution_count": null,
   "outputs": [],
   "source": [
    "% matplotlib\n",
    "\n",
    "# compute map over certain sub-space\n",
    "x_fp2 = 1. - 1. / r\n",
    "x_min = np.minimum(-0.05, x_fp2 - 0.05)\n",
    "support = np.linspace(x_min, 1.05, 100)\n",
    "forward_map = logmap(support)\n",
    "\n",
    "# plot map with fixed points\n",
    "fig = plt.figure()\n",
    "plt.plot(support, forward_map, label='Logistic Map')\n",
    "plt.plot(support, support, 'k--', label=r'$x_n = x_{n+1}$')\n",
    "plt.plot(0, 0, 'o', label=f'Fix point $x_1^*={0}$')\n",
    "plt.plot(x_fp2, x_fp2, 'o', label=f'Fix point $x_2^*={x_fp2:.1f}$')\n",
    "plt.xlabel(r'State, $x_n$')\n",
    "plt.ylabel(r'Next state, $x_{n+1}$')\n",
    "plt.legend()\n",
    "plt.grid()\n",
    "plt.tight_layout()\n",
    "\n",
    "# animation parameters\n",
    "frames = 100\n",
    "t_step = 200  # stepping time in ms\n",
    "repeat_delay = 1000  # delay between repetitions\n",
    "\n",
    "# define animation step\n",
    "line, = plt.plot([], [], 'o-', lw=2)\n",
    "\n",
    "\n",
    "def animation_step(i):\n",
    "    j = int(i / 2)\n",
    "    if i % 2 == 0:\n",
    "        line.set_data([trajectory[j], trajectory[j]], [trajectory[j], trajectory[j + 1]])\n",
    "\n",
    "    else:\n",
    "        line.set_data([trajectory[j], trajectory[j + 1]], [trajectory[j + 1], trajectory[j + 1]])\n",
    "    # fig.canvas.draw()\n",
    "    return line\n",
    "\n",
    "\n",
    "# animate\n",
    "anim = animation.FuncAnimation(fig, animation_step, frames=frames, interval=t_step, repeat_delay=repeat_delay)\n"
   ],
   "metadata": {
    "collapsed": false,
    "pycharm": {
     "name": "#%%\n"
    }
   }
  },
  {
   "cell_type": "markdown",
   "source": [
    "To gain insight into the behaviour of the logistic map in dependence of the control parameter $r$ we can create a\n",
    "bifurcation plot. To do so we generate a couple of sample trajectories with random initial states and record their\n",
    "steady states. Additionally, we can approximate the Ljapunov exponent as a function of the control parameter and\n",
    "compare it to the bifurcation diagram."
   ],
   "metadata": {
    "collapsed": false,
    "pycharm": {
     "name": "#%% md\n"
    }
   }
  },
  {
   "cell_type": "code",
   "execution_count": null,
   "outputs": [],
   "source": [
    "% matplotlib inline\n",
    "\n",
    "# parameters\n",
    "r_sweep = np.linspace(3.1, 4., 300)\n",
    "num_trajectories = 200\n",
    "n_max = 100\n",
    "\n",
    "# create the logistic maps + sample trajectories\n",
    "logmaps = [LogisticMap(r) for r in r_sweep]\n",
    "initial_states = np.random.uniform(0, 1, num_trajectories)\n",
    "trajectories = np.array([lm.compute_trajectory(initial_states, n_max) for lm in logmaps])\n",
    "\n",
    "# extract steady states + compute Ljapunov exponents\n",
    "steady_states = trajectories[:, :, -1]\n",
    "derivatives = np.array([lm.derivative(traj) for lm, traj in zip(logmaps, trajectories)])\n",
    "ljpnv_exp = np.mean(np.sum(np.log(np.abs(derivatives)), axis=2), axis=1) / n_max\n",
    "\n",
    "plt.close('all')\n",
    "fix, ax = plt.subplots(2, 1, sharex=True)\n",
    "ax[0].plot(r_sweep, steady_states, 'b.', markersize=1)\n",
    "ax[0].set_xlabel(r'Control parameter, $r$')\n",
    "ax[0].set_ylabel(r'Steady states, $x_{%d}$' % n_max)\n",
    "\n",
    "ax[1].plot(r_sweep, ljpnv_exp)\n",
    "ax[1].plot([r_sweep[0], r_sweep[-1]], [0, 0], 'k--')\n",
    "ax[0].set_ylabel(r'Ljapunov exponent, $\\lambda$')\n",
    "plt.tight_layout()\n"
   ],
   "metadata": {
    "collapsed": false,
    "pycharm": {
     "name": "#%%\n"
    }
   }
  },
  {
   "cell_type": "markdown",
   "source": [
    "Finally, we look at how fast two trajectories diverge when their initial states are very close and the logistic map\n",
    "is in chaotic mode. We will also illustrate how this relates to the Ljapunov exponent."
   ],
   "metadata": {
    "collapsed": false,
    "pycharm": {
     "name": "#%% md\n"
    }
   }
  },
  {
   "cell_type": "code",
   "execution_count": null,
   "outputs": [],
   "source": [
    "r = 4.\n",
    "x0 = np.random.uniform(0, 1)\n",
    "delta0 = 1e-10\n",
    "n_max = 100\n",
    "logmap = LogisticMap(r)\n",
    "deltas = np.abs(logmap.compute_trajectory(x0, n_max) - logmap.compute_trajectory(x0 + delta0, n_max))\n",
    "\n",
    "ljpnv_line = np.exp(ljpnv_exp[-1] * np.arange(0, 35)) * delta0\n",
    "\n",
    "plt.close('all')\n",
    "plt.figure()\n",
    "plt.plot(deltas)\n",
    "plt.plot(ljpnv_line, label=r'$\\lambda n + \\log \\delta_0$')\n",
    "plt.semilogy()\n",
    "plt.xlabel(r'Time step, $n$')\n",
    "plt.ylabel(r'Absolute state difference, $\\delta_n = |x^{(1)}_n - x^{(2)}_n|$')\n",
    "plt.legend()\n",
    "plt.grid()\n",
    "plt.tight_layout()"
   ],
   "metadata": {
    "collapsed": false,
    "pycharm": {
     "name": "#%%\n"
    }
   }
  }
 ],
 "metadata": {
  "kernelspec": {
   "display_name": "Python 3",
   "language": "python",
   "name": "python3"
  },
  "language_info": {
   "codemirror_mode": {
    "name": "ipython",
    "version": 2
   },
   "file_extension": ".py",
   "mimetype": "text/x-python",
   "name": "python",
   "nbconvert_exporter": "python",
   "pygments_lexer": "ipython2",
   "version": "2.7.6"
  }
 },
 "nbformat": 4,
 "nbformat_minor": 0
}