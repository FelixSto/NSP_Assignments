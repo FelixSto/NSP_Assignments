{
 "cells": [
  {
   "cell_type": "markdown",
   "metadata": {
    "collapsed": true,
    "pycharm": {
     "name": "#%% md\n"
    }
   },
   "source": [
    "# Normalizing Flows\n",
    "\n",
    "In this notebook we implement some simple normalizing flows to learn univariate distributions.\n",
    "First, the necessary imports."
   ]
  },
  {
   "cell_type": "code",
   "execution_count": null,
   "metadata": {
    "pycharm": {
     "name": "#%%\n"
    }
   },
   "outputs": [],
   "source": [
    "%reload_ext autoreload\n",
    "%autoreload 2\n",
    "import matplotlib.pyplot as plt\n",
    "import pyro.distributions as dist\n",
    "import torch\n",
    "\n",
    "from src.utils.plotting import init_plot_style\n",
    "\n",
    "init_plot_style()"
   ]
  },
  {
   "cell_type": "markdown",
   "source": [
    "Let's define our ground truth distribution as a mixture of Gaussians."
   ],
   "metadata": {
    "collapsed": false,
    "pycharm": {
     "name": "#%% md\n"
    }
   }
  },
  {
   "cell_type": "code",
   "execution_count": null,
   "outputs": [],
   "source": [
    "# define ground truth distribution\n",
    "locs = torch.tensor([-3.0, -0.5, 2.0]).view(-1,1)\n",
    "covs = torch.tensor([0.5, 0.5, 1.0]).view(-1,1)\n",
    "weights = torch.tensor([0.3, 0.5, 0.2])\n",
    "px = dist.MixtureOfDiagNormals(locs, covs, weights)\n",
    "\n",
    "# sample distribution over support\n",
    "support = torch.linspace(-5, 5, 500).view(-1,1)\n",
    "pdf = torch.exp(px.log_prob(support))\n",
    "\n",
    "# plot the pdf\n",
    "plt.close('all')\n",
    "plt.figure()\n",
    "plt.plot(support, pdf, label=r'$p_X$')\n",
    "plt.xlabel('Support')\n",
    "plt.ylabel('PDF')\n",
    "plt.legend()\n",
    "plt.tight_layout()"
   ],
   "metadata": {
    "collapsed": false,
    "pycharm": {
     "name": "#%%\n"
    }
   }
  },
  {
   "cell_type": "markdown",
   "metadata": {
    "pycharm": {
     "name": "#%% md\n"
    }
   },
   "source": [
    "Now let's construct a spline coupling flow."
   ]
  },
  {
   "cell_type": "code",
   "execution_count": null,
   "metadata": {
    "pycharm": {
     "name": "#%%\n"
    }
   },
   "outputs": [],
   "source": [
    "base_dist = dist.Normal(torch.zeros(1), torch.ones(1))\n",
    "num_components = 2\n",
    "transforms = [dist.transforms.spline(1, count_bins=32, bound=20) for _ in range(num_components)]\n",
    "qx = dist.TransformedDistribution(base_dist, transforms)"
   ]
  },
  {
   "cell_type": "markdown",
   "source": [
    "We are ready to train our flow!"
   ],
   "metadata": {
    "collapsed": false
   }
  },
  {
   "cell_type": "code",
   "execution_count": null,
   "outputs": [],
   "source": [
    "# sample training data from the true distribution\n",
    "num_samples = 5000\n",
    "data = px.sample(torch.Size([num_samples,])).detach()\n",
    "\n",
    "# configure optimizier\n",
    "modules = torch.nn.ModuleList(transforms)\n",
    "optimizer = torch.optim.Adam(modules.parameters(), lr=5e-2)\n",
    "\n",
    "# start training\n",
    "steps = 500\n",
    "for step in range(steps+1):\n",
    "    optimizer.zero_grad()\n",
    "    loss = -qx.log_prob(data).mean()\n",
    "    loss.backward()\n",
    "    optimizer.step()\n",
    "    qx.clear_cache()\n",
    "\n",
    "    if step % 100 == 0:\n",
    "        print('step: {}, loss: {}'.format(step, loss.item()))"
   ],
   "metadata": {
    "collapsed": false,
    "pycharm": {
     "name": "#%%\n"
    }
   }
  },
  {
   "cell_type": "markdown",
   "source": [
    "Let's see what we have learned."
   ],
   "metadata": {
    "collapsed": false,
    "pycharm": {
     "name": "#%% md\n"
    }
   }
  },
  {
   "cell_type": "code",
   "execution_count": null,
   "outputs": [],
   "source": [
    "# sample distribution over support\n",
    "support = torch.linspace(-5, 5, 500).view(-1,1)\n",
    "pdf_approx = torch.exp(qx.log_prob(support)).detach()\n",
    "\n",
    "# plot the pdf\n",
    "plt.close('all')\n",
    "plt.figure()\n",
    "plt.plot(support, pdf, label=r'$p_X$')\n",
    "plt.plot(support, pdf_approx, label=r'$q_X$')\n",
    "plt.xlabel('Support')\n",
    "plt.ylabel('PDF')\n",
    "plt.legend()\n",
    "plt.tight_layout()"
   ],
   "metadata": {
    "collapsed": false,
    "pycharm": {
     "name": "#%%\n"
    }
   }
  }
 ],
 "metadata": {
  "kernelspec": {
   "display_name": "Python 3",
   "language": "python",
   "name": "python3"
  },
  "language_info": {
   "codemirror_mode": {
    "name": "ipython",
    "version": 3
   },
   "file_extension": ".py",
   "mimetype": "text/x-python",
   "name": "python",
   "nbconvert_exporter": "python",
   "pygments_lexer": "ipython3",
   "version": "3.7.9"
  }
 },
 "nbformat": 4,
 "nbformat_minor": 1
}