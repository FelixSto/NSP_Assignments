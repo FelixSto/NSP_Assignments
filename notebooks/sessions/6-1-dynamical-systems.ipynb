{
 "cells": [
  {
   "cell_type": "markdown",
   "metadata": {
    "collapsed": true,
    "pycharm": {
     "name": "#%% md\n"
    }
   },
   "source": [
    "# Dynamical Systems: Simulation and Analysis\n",
    "\n",
    "In this notebook we take a look at dynamical systems by the example of\n",
    "a pendulum. We implement the system, compute solution trajectories and\n",
    "analyze the fixed points in the system's phase space.\n",
    "\n",
    "So let's get started. First, we need some imports."
   ]
  },
  {
   "cell_type": "code",
   "execution_count": null,
   "outputs": [],
   "source": [
    "% reload_ext autoreload\n",
    "% autoreload 2\n",
    "import matplotlib.pyplot as plt\n",
    "import numpy as np\n",
    "import scipy.integrate as sint\n",
    "\n",
    "from src.utils.plotting import init_plot_style\n",
    "# % pylab\n",
    "\n",
    "# initialize our global plot style\n",
    "init_plot_style()"
   ],
   "metadata": {
    "collapsed": false,
    "pycharm": {
     "name": "#%%\n"
    }
   }
  },
  {
   "cell_type": "markdown",
   "source": [
    "Below we implement the dynamical system, i.e., we specify how to compute\n",
    "the systems flow and its Jacobian. Moreover, we compute solution trajectories\n",
    "by using a numerical ODE solver."
   ],
   "metadata": {
    "collapsed": false
   }
  },
  {
   "cell_type": "code",
   "execution_count": null,
   "outputs": [],
   "source": [
    "class Pendulum():\n",
    "    \"\"\"\n",
    "    Implements the dynamical system description of a pendulum.\n",
    "    \"\"\"\n",
    "\n",
    "    def __init__(self, alpha=1, beta=0.2):\n",
    "        \"\"\"\n",
    "        Parameters\n",
    "        ----------\n",
    "        alpha : float\n",
    "            Friction parameter.\n",
    "        beta : float\n",
    "            Geometry parameter.\n",
    "        \"\"\"\n",
    "        self.alpha = alpha\n",
    "        self.beta = beta\n",
    "\n",
    "    def flow(self, z: np.ndarray, t=None):\n",
    "        \"\"\" Flow of a nonlinear dynamical system.\n",
    "\n",
    "        Parameters\n",
    "        ----------\n",
    "        z : numpy.ndarray\n",
    "            State vector or batch of state vectors.\n",
    "        t : numpy.ndarray\n",
    "            Time. Not used in this system.\n",
    "\n",
    "        Returns\n",
    "        ------\n",
    "        numpy.ndarray\n",
    "            The flow evaluated at state(s) z.\n",
    "        \"\"\"\n",
    "        assert z.shape[0] == 2\n",
    "        z = z.reshape(2, -1)\n",
    "        xdot = z[1, :]\n",
    "        ydot = -self.beta * np.sin(z[0, :]) - self.alpha * z[1, :]\n",
    "        zdot = np.stack((xdot, ydot), axis=0)\n",
    "        return zdot if zdot.shape[1] > 1 else zdot.squeeze(1)\n",
    "\n",
    "    def jacobian(self, z: np.ndarray):\n",
    "        \"\"\" Jacobian of the dynamical system.\n",
    "\n",
    "        Parameters\n",
    "        ----------\n",
    "        z : numpy.ndarray\n",
    "            State vector.\n",
    "\n",
    "        Returns\n",
    "        ------\n",
    "         numpy.ndarray\n",
    "            The Jacobian evaluated at z.\n",
    "        \"\"\"\n",
    "        z = z.reshape(-1, )\n",
    "        assert len(z) == 2\n",
    "        jacobian = np.array([[0., -self.beta * np.cos(z[0])], [1., -self.alpha]])\n",
    "        return jacobian\n",
    "\n",
    "    def compute_trajectory(self, z: np.ndarray, t_max: float, Ts: float):\n",
    "        \"\"\" Computes the system trajectory for a given initial state..\n",
    "\n",
    "        Parameters\n",
    "        ----------\n",
    "        z : numpy.ndarray\n",
    "            Initial state vector.\n",
    "        t_max : float\n",
    "            Maximum trajectory length in seconds.\n",
    "        Ts : float\n",
    "            Evaluation step size in seconds.\n",
    "\n",
    "        Returns\n",
    "        ------\n",
    "         numpy.ndarray, numpy.ndarray\n",
    "            The trajectory (sequence of state vectors) and a time vector.\n",
    "        \"\"\"\n",
    "        time_steps = int(t_max / Ts)\n",
    "        t = np.linspace(0., t_max, time_steps)\n",
    "        return sint.odeint(self.flow, z, t).T, t\n"
   ],
   "metadata": {
    "collapsed": false,
    "pycharm": {
     "name": "#%%\n"
    }
   }
  },
  {
   "cell_type": "markdown",
   "source": [
    "We can now instantiate our system with the desired parameters and\n",
    "look a an example trajectory, i.e., the evolution of the system's state\n",
    "for a given initial state as a function of time."
   ],
   "metadata": {
    "collapsed": false,
    "pycharm": {
     "name": "#%% md\n"
    }
   }
  },
  {
   "cell_type": "code",
   "execution_count": null,
   "outputs": [],
   "source": [
    "# create pendulum\n",
    "pendulum = Pendulum(alpha=1., beta=5.)\n",
    "\n",
    "# define initial state and compute trajectory\n",
    "z0 = np.array([0, 0])\n",
    "# z0 = np.array([np.pi / 2, 0])\n",
    "# z0 = np.array([0, 2.])\n",
    "trajectory, time = pendulum.compute_trajectory(z0, t_max=10, Ts=1e-2)\n",
    "\n",
    "# plot trajectory as a function of time\n",
    "fig, ax = plt.subplots(2, 1, sharex=True)\n",
    "plt.xlabel('Time in seconds, $t$')\n",
    "ax[0].plot(time, trajectory[0, :])\n",
    "ax[0].set_ylabel('Angle, $x$')\n",
    "ax[1].plot(time, trajectory[1, :])\n",
    "ax[1].set_ylabel('Angular Velocity, $y$')\n",
    "plt.tight_layout()"
   ],
   "metadata": {
    "collapsed": false,
    "pycharm": {
     "name": "#%%\n"
    }
   }
  },
  {
   "cell_type": "markdown",
   "source": [
    "More informative than a single trajectory is the phase space of the system.\n",
    "Here, we generate and plot a vector field in the phase space representing the\n",
    "system's flow. Note that the length of the vectors are all equal for a better\n",
    "visualization and they do not reflect their true length. Instead, we encode the\n",
    "vector magnitudes with colors."
   ],
   "metadata": {
    "collapsed": false,
    "pycharm": {
     "name": "#%% md\n"
    }
   }
  },
  {
   "cell_type": "code",
   "execution_count": null,
   "outputs": [],
   "source": [
    "# generate a point grid over the phase space\n",
    "x = np.linspace(-2. * np.pi, 2. * np.pi, 50)\n",
    "y = np.linspace(-3, 3, 50)\n",
    "X, Y = np.meshgrid(x, y)\n",
    "Z = np.stack((X, Y), axis=2).reshape((-1, 2)).T\n",
    "\n",
    "# compute the flow for the grid points\n",
    "F = pendulum.flow(Z)\n",
    "\n",
    "# plot phase space with example trajectory\n",
    "plt.close('all')\n",
    "plt.figure()\n",
    "cscale = np.linalg.norm(F, axis=0)\n",
    "plt.quiver(Z[0, :], Z[1, :], F[0, :] / cscale, F[1, :] / cscale, cscale, cmap=plt.get_cmap('jet'))\n",
    "plt.plot(trajectory[0, :], trajectory[1, :], 'r', label=f'Trajectory for $z_0 = [{z0[0]:.2f}, {z0[0]:.2f}]$')\n",
    "plt.plot(z0[0], z0[1], 'o', label=f'Initial state, $z_0 = [{z0[0]:.2f}, {z0[0]:.2f}]$')\n",
    "plt.xlabel('Angle, $x$')\n",
    "plt.ylabel('Angular Velocity, $y$')\n",
    "plt.legend()\n",
    "plt.tight_layout()\n"
   ],
   "metadata": {
    "collapsed": false,
    "pycharm": {
     "name": "#%%\n"
    }
   }
  },
  {
   "cell_type": "markdown",
   "source": [
    "Finally, we can numerically verify our analytical stability analysis\n",
    "by computing the Eigenvalues of the system's Jacobian evaluated at the\n",
    "fixed points."
   ],
   "metadata": {
    "collapsed": false,
    "pycharm": {
     "name": "#%% md\n"
    }
   }
  },
  {
   "cell_type": "code",
   "execution_count": null,
   "outputs": [],
   "source": [
    "# define fixed point of interest\n",
    "z_fp = np.array([0, 0])\n",
    "# z_fp = np.array([np.pi, 0])\n",
    "\n",
    "# compute eigenvalues\n",
    "jacobian = pendulum.jacobian(z_fp)\n",
    "evs = np.linalg.eigvals(jacobian)\n",
    "print(f'First Eigenvalue is {evs[0]:.2f}')\n",
    "print(f'Second Eigenvalue is {evs[1]:.2f}')\n"
   ],
   "metadata": {
    "collapsed": false,
    "pycharm": {
     "name": "#%%\n"
    }
   }
  }
 ],
 "metadata": {
  "kernelspec": {
   "display_name": "Python 3",
   "language": "python",
   "name": "python3"
  },
  "language_info": {
   "codemirror_mode": {
    "name": "ipython",
    "version": 2
   },
   "file_extension": ".py",
   "mimetype": "text/x-python",
   "name": "python",
   "nbconvert_exporter": "python",
   "pygments_lexer": "ipython2",
   "version": "2.7.6"
  }
 },
 "nbformat": 4,
 "nbformat_minor": 0
}